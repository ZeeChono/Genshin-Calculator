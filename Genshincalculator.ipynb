{
 "cells": [
  {
   "cell_type": "markdown",
   "id": "6e796983-3424-4d95-a165-2bb8fa478d83",
   "metadata": {},
   "source": [
    "# Genshin Calculator:"
   ]
  },
  {
   "cell_type": "code",
   "execution_count": 1,
   "id": "bf4bd52e-b7c3-40d5-bcda-0da7bad91fb9",
   "metadata": {},
   "outputs": [],
   "source": [
    "# =================================  Next Goal of Development =================================\n",
    "# 1. 使用excel导入角色数据1(complete)\n",
    "##        Use dilimeter to seperate character's info\n",
    "##        1.2 怎么计算解决状态类大招问题（eg. Xiao, Itto etc.） \n",
    "# 2. 导入怪物数据(ongoing)\n",
    "# 3. "
   ]
  },
  {
   "cell_type": "code",
   "execution_count": 2,
   "id": "992a9d44-67dd-4e8f-8be6-6d3a7abdd854",
   "metadata": {},
   "outputs": [],
   "source": [
    "import pandas as pd"
   ]
  },
  {
   "cell_type": "markdown",
   "id": "4b9ac32b-03d6-47ad-b0b2-c52e628b9754",
   "metadata": {},
   "source": [
    "## Class"
   ]
  },
  {
   "cell_type": "code",
   "execution_count": 42,
   "id": "dfdba0a1-3f52-407f-ad3d-aa1335a97a5b",
   "metadata": {},
   "outputs": [],
   "source": [
    "# character class\n",
    "# Read in using specific format and calculate automatically\n",
    "class Character:\n",
    "    def __init__(self, name, level, skill_scale, vision_element=None, damage_attribute=None, survival_attribute=None):\n",
    "        self.name = name\n",
    "        self.level = level       \n",
    "        self.vision_element = vision_element\n",
    "        self.damage_attribute = damage_attribute                    \n",
    "        self.survival_attribute = survival_attribute \n",
    "        self.skill_scale = skill_scale\n",
    "            \n",
    "    def expect_dmg(self, monster = None):\n",
    "        if monster == None:\n",
    "            monster_level = 93\n",
    "            monster_res = 0.1\n",
    "            print(f'<No monster type specified, using default monster level and resistance{93, 0.1}>')\n",
    "        else: \n",
    "            monster_level = monster.level\n",
    "            monster_res = monster.resistence\n",
    "        #calculation:\n",
    "        e_dmg, q_dmg = self.calculate_dmg(monster_level, monster_res)\n",
    "        #construct dataframe:\n",
    "        dmg_data = {'normal_e': [e_dmg[0]], 'crit_e': [e_dmg[1]], 'normal_q': [q_dmg[0]], 'crit_q': [q_dmg[1]]}\n",
    "        dmg_df = pd.DataFrame(data=dmg_data)\n",
    "        dmg_df = pd.DataFrame([[e_dmg[0], e_dmg[1], q_dmg[0], q_dmg[1]]], columns=['normal_e', 'crit_e', 'normal_q', 'crit_q'], index=[self.name])\n",
    "        # return a panda dataframe of dmg:\n",
    "        return e_dmg, q_dmg, dmg_df\n",
    "    \n",
    "    # helper function to calculate dmg and return a list\n",
    "    def calculate_dmg(self, monster_level, monster_res):\n",
    "        e_dmg_list = []\n",
    "        q_dmg_list = []\n",
    "        #calculate dmg:\n",
    "        if monster_res < 0:\n",
    "            monster_res /= 2\n",
    "        e_dmg = (self.skill_scale.e/100)*self.damage_attribute.atk*(1+self.damage_attribute.dmg_bonus/100)*((self.level + 100)/(self.level+monster_level+200))*(1-monster_res)\n",
    "        e_crit_dmg = e_dmg * (1+self.damage_attribute.crit_damage/100)\n",
    "        q_dmg = (self.skill_scale.q/100)*self.damage_attribute.atk*(1+self.damage_attribute.dmg_bonus/100)*((self.level + 100)/(self.level+monster_level+200))*(1-monster_res)\n",
    "        q_crit_dmg = q_dmg * (1+self.damage_attribute.crit_damage/100)\n",
    "        #append the list:\n",
    "        e_dmg_list.append(round(e_dmg,2))\n",
    "        e_dmg_list.append(round(e_crit_dmg,2))\n",
    "        q_dmg_list.append(round(q_dmg,2))\n",
    "        q_dmg_list.append(round(q_crit_dmg,2))\n",
    "        #print to console:\n",
    "        print(f'===== expected e dmg =====')\n",
    "        print(f'normal e: {e_dmg:10.2f}')\n",
    "        print(f'crit e:   {e_crit_dmg:10.2f}')\n",
    "        print(f'===== ============ =====')\n",
    "        print(f'===== expected q dmg =====')\n",
    "        print(f'normal q: {q_dmg:10.2f}')\n",
    "        print(f'crit q:   {q_crit_dmg:10.2f}')\n",
    "        print(f'===== ============ =====')\n",
    "        return e_dmg_list, q_dmg_list\n",
    "    \n",
    "    def show(self):\n",
    "        print(f'Character name:   {self.name}')\n",
    "        print(f'Character level:  {self.level}')\n",
    "        print(f'Character vision: {self.vision_element}')\n",
    "        self.damage_attribute.show()\n",
    "        self.skill_scale.show()"
   ]
  },
  {
   "cell_type": "code",
   "execution_count": 43,
   "id": "a205712d-f15d-40a4-b673-e0806d1df29a",
   "metadata": {},
   "outputs": [],
   "source": [
    "# monster class\n",
    "# Calculate the damage on specific monster type\n",
    "class Monster:\n",
    "     def __init__(self, name, level, element, resistence):\n",
    "        self.name = name\n",
    "        self.level = level       \n",
    "        self.element = element\n",
    "        self.resistence = resistence         \n",
    "        "
   ]
  },
  {
   "cell_type": "code",
   "execution_count": 44,
   "id": "295a884e-3a3b-42ce-9709-9ec7cd1f5c41",
   "metadata": {},
   "outputs": [],
   "source": [
    "class Damage_attribute:\n",
    "    def __init__(self, atk, elemental_mastery, crit_rate, crit_damage, cd_reduction, dmg_bonus):\n",
    "        self.atk = atk\n",
    "        self.elemental_mastery = elemental_mastery\n",
    "        self.crit_rate = crit_rate                      # display in percent\n",
    "        self.crit_damage = crit_damage                  # display in percent\n",
    "        self.cd_reduction = cd_reduction\n",
    "        self.dmg_bonus = dmg_bonus                      # display in percent\n",
    "\n",
    "    \n",
    "    def show(self):                              # print method\n",
    "        print(f'damage attribute: ')\n",
    "        print(f'  atk:               {self.atk}')\n",
    "        print(f'  elemental_mastery: {self.elemental_mastery}')\n",
    "        print(f'  crit_rate:         {self.crit_rate}%')\n",
    "        print(f'  crit_damage:       {self.crit_damage}%')\n",
    "        print(f'  cd_reduction:      {self.cd_reduction}')\n",
    "        print(f'  dmg_bonus:         {self.dmg_bonus}%')   "
   ]
  },
  {
   "cell_type": "code",
   "execution_count": 45,
   "id": "faebda46-29c0-4d7f-b234-3ee3fa7c9918",
   "metadata": {},
   "outputs": [],
   "source": [
    "# skill class\n",
    "# record the scaling of the character's skill\n",
    "class Skill_scaling:\n",
    "    def __init__(self, e, q):\n",
    "        self.e = e\n",
    "        self.q = q\n",
    "        \n",
    "    def show(self):\n",
    "        print(f'character skill e scale: {self.e}%')\n",
    "        print(f'character skill q scale: {self.q}%')"
   ]
  },
  {
   "cell_type": "markdown",
   "id": "559d8d18-5b70-4c72-9dbf-710c7cb327ec",
   "metadata": {},
   "source": [
    "## Functions"
   ]
  },
  {
   "cell_type": "code",
   "execution_count": 46,
   "id": "acde74a6-8310-423e-8636-603e51dbcbf3",
   "metadata": {},
   "outputs": [],
   "source": [
    "# read in the character info\n",
    "\n",
    "def read_character(path):\n",
    "    char_list = []\n",
    "    df = pd.read_csv(path)\n",
    "    for index, row in df.iterrows():\n",
    "        dmg_att = Damage_attribute(row['atk'], row['elemental_mastery'], row['crit_rate'], row['crit_damage'], row['cd_reduction'], row['dmg_bonus'])\n",
    "        skill = Skill_scaling(row['e'], row['q'])\n",
    "        char = Character(row['name'], row['level'], skill, row['vision'], dmg_att)\n",
    "        char_list.append(char)\n",
    "    return char_list"
   ]
  },
  {
   "cell_type": "code",
   "execution_count": 60,
   "id": "231d0f56-0377-4d32-b9a1-233350553673",
   "metadata": {},
   "outputs": [],
   "source": [
    "# calculate the expected dmg of input list of characters\n",
    "# return a dataframe of all characters expected dmg\n",
    "\n",
    "def calculate_dmg_expectation(char_list, monster):\n",
    "    df = pd.DataFrame(columns=['normal_e', 'crit_e', 'normal_q', 'crit_q'])\n",
    "    for char in char_list:\n",
    "        char.show()\n",
    "        e_dmg, q_dmg, dmg_df = char.expect_dmg(monster)\n",
    "        print(dmg_df)\n",
    "        df = df.append(dmg_df)\n",
    "        print('---------------------------- Divide ----------------------------')\n",
    "    \n",
    "    return df"
   ]
  },
  {
   "cell_type": "markdown",
   "id": "ae995227-b9f6-4a3b-a701-a4f58459a82d",
   "metadata": {},
   "source": [
    "## Calculation"
   ]
  },
  {
   "cell_type": "markdown",
   "id": "c76e0429-5bb1-4dff-ac09-d3bf71a9b228",
   "metadata": {},
   "source": [
    "#read in character info\n",
    "chars = read_character('data.csv')## First Read in the Character Info"
   ]
  },
  {
   "cell_type": "code",
   "execution_count": 61,
   "id": "7222d53c-2872-4bff-a672-e2d34d436d7c",
   "metadata": {},
   "outputs": [],
   "source": [
    "#read in character info\n",
    "chars = read_character('data.csv')"
   ]
  },
  {
   "cell_type": "code",
   "execution_count": 62,
   "id": "9c0be97f-51d8-49b5-9b58-805eb51a5937",
   "metadata": {},
   "outputs": [],
   "source": [
    "#定好靶子\n",
    "ice_tree = Monster('IceTree', 93, 'cryo', 0.1)"
   ]
  },
  {
   "cell_type": "code",
   "execution_count": 63,
   "id": "ee1dba96-d409-4103-986c-c0c8593ec337",
   "metadata": {},
   "outputs": [
    {
     "name": "stdout",
     "output_type": "stream",
     "text": [
      "Character name:   Xiao\n",
      "Character level:  90\n",
      "Character vision: Anemo\n",
      "damage attribute: \n",
      "  atk:               2536\n",
      "  elemental_mastery: 117\n",
      "  crit_rate:         66.4%\n",
      "  crit_damage:       171.3%\n",
      "  cd_reduction:      0\n",
      "  dmg_bonus:         46.6%\n",
      "character skill e scale: 404.0%\n",
      "character skill q scale: 0.0%\n",
      "===== expected e dmg =====\n",
      "normal e:    6705.97\n",
      "crit e:     18193.31\n",
      "===== ============ =====\n",
      "===== expected q dmg =====\n",
      "normal q:       0.00\n",
      "crit q:         0.00\n",
      "===== ============ =====\n",
      "      normal_e    crit_e  normal_q  crit_q\n",
      "Xiao   6705.97  18193.31       0.0     0.0\n",
      "---------------------------- Divide ----------------------------\n",
      "Character name:   Childe\n",
      "Character level:  90\n",
      "Character vision: Hydro\n",
      "damage attribute: \n",
      "  atk:               1930\n",
      "  elemental_mastery: 40\n",
      "  crit_rate:         75.4%\n",
      "  crit_damage:       130.1%\n",
      "  cd_reduction:      0\n",
      "  dmg_bonus:         90.3%\n",
      "character skill e scale: 129.6%\n",
      "character skill q scale: 835.2%\n",
      "===== expected e dmg =====\n",
      "normal e:    2125.19\n",
      "crit e:      4890.07\n",
      "===== ============ =====\n",
      "===== expected q dmg =====\n",
      "normal q:   13695.69\n",
      "crit q:     31513.78\n",
      "===== ============ =====\n",
      "        normal_e   crit_e  normal_q    crit_q\n",
      "Childe   2125.19  4890.07  13695.69  31513.78\n",
      "---------------------------- Divide ----------------------------\n",
      "        normal_e    crit_e  normal_q    crit_q\n",
      "Xiao     6705.97  18193.31      0.00      0.00\n",
      "Childe   2125.19   4890.07  13695.69  31513.78\n"
     ]
    }
   ],
   "source": [
    "df = calculate_dmg_expectation(chars, ice_tree)\n",
    "print(df)"
   ]
  },
  {
   "cell_type": "markdown",
   "id": "97d11166-8d2a-489e-8bf0-a6cfee59a55c",
   "metadata": {},
   "source": [
    "# Draft"
   ]
  },
  {
   "cell_type": "code",
   "execution_count": 12,
   "id": "25551bfb-5a79-4316-85e5-4ca9bf76a5e6",
   "metadata": {},
   "outputs": [],
   "source": [
    "#定好靶子\n",
    "ice_tree = Monster('IceTree', 93, 'cryo', 0.1)"
   ]
  },
  {
   "cell_type": "code",
   "execution_count": 9,
   "id": "72deb179-a791-4413-854b-9e41d3356534",
   "metadata": {},
   "outputs": [],
   "source": [
    "#read in character info\n",
    "chars = read_character('data.csv')"
   ]
  },
  {
   "cell_type": "code",
   "execution_count": 13,
   "id": "3f861d36-16e5-44e2-8a2e-355799039df6",
   "metadata": {},
   "outputs": [
    {
     "name": "stdout",
     "output_type": "stream",
     "text": [
      "Character name:   Xiao\n",
      "Character level:  90\n",
      "Character vision: Anemo\n",
      "damage attribute: \n",
      "  atk:               2536\n",
      "  elemental_mastery: 117\n",
      "  crit_rate:         66.4%\n",
      "  crit_damage:       171.3%\n",
      "  cd_reduction:      0\n",
      "  dmg_bonus:         46.6%\n",
      "character skill e scale: 404.0%\n",
      "character skill q scale: 0.0%\n",
      "Character name:   Childe\n",
      "Character level:  90\n",
      "Character vision: Hydro\n",
      "damage attribute: \n",
      "  atk:               1930\n",
      "  elemental_mastery: 40\n",
      "  crit_rate:         75.4%\n",
      "  crit_damage:       130.1%\n",
      "  cd_reduction:      0\n",
      "  dmg_bonus:         90.3%\n",
      "character skill e scale: 129.6%\n",
      "character skill q scale: 835.2%\n"
     ]
    }
   ],
   "source": [
    "#print char info\n",
    "chars[0].show()\n",
    "\n",
    "chars[1].show()"
   ]
  },
  {
   "cell_type": "code",
   "execution_count": 65,
   "id": "ccbdd5a2-5d4b-4bab-be71-54f51670e21c",
   "metadata": {},
   "outputs": [
    {
     "name": "stdout",
     "output_type": "stream",
     "text": [
      "===== expected e dmg =====\n",
      "normal e:    6705.97\n",
      "crit e:     18193.31\n",
      "===== ============ =====\n",
      "===== expected q dmg =====\n",
      "normal q:       0.00\n",
      "crit q:         0.00\n",
      "===== ============ =====\n"
     ]
    },
    {
     "data": {
      "text/plain": [
       "([6705.97, 18193.31],\n",
       " [0.0, 0.0],\n",
       "       normal_e    crit_e  normal_q  crit_q\n",
       " Xiao   6705.97  18193.31       0.0     0.0)"
      ]
     },
     "execution_count": 65,
     "metadata": {},
     "output_type": "execute_result"
    }
   ],
   "source": [
    "chars[0].expect_dmg(ice_tree)"
   ]
  },
  {
   "cell_type": "code",
   "execution_count": 64,
   "id": "fae114da-7561-4beb-aff5-4605a1d6bf7b",
   "metadata": {},
   "outputs": [
    {
     "name": "stdout",
     "output_type": "stream",
     "text": [
      "===== expected e dmg =====\n",
      "normal e:    2125.19\n",
      "crit e:      4890.07\n",
      "===== ============ =====\n",
      "===== expected q dmg =====\n",
      "normal q:   13695.69\n",
      "crit q:     31513.78\n",
      "===== ============ =====\n"
     ]
    },
    {
     "data": {
      "text/plain": [
       "([2125.19, 4890.07],\n",
       " [13695.69, 31513.78],\n",
       "         normal_e   crit_e  normal_q    crit_q\n",
       " Childe   2125.19  4890.07  13695.69  31513.78)"
      ]
     },
     "execution_count": 64,
     "metadata": {},
     "output_type": "execute_result"
    }
   ],
   "source": [
    "chars[1].expect_dmg(ice_tree)"
   ]
  },
  {
   "cell_type": "markdown",
   "id": "a989a8cc-ed23-4973-995d-f9784759fb60",
   "metadata": {},
   "source": [
    "# Draft after:"
   ]
  },
  {
   "cell_type": "markdown",
   "id": "936c591b-3549-4e40-b752-c5364f174526",
   "metadata": {},
   "source": [
    "## Xiao"
   ]
  },
  {
   "cell_type": "code",
   "execution_count": 36,
   "id": "cadd1b36-488b-4251-851e-f838e9d22beb",
   "metadata": {},
   "outputs": [],
   "source": [
    "xiao_dmg_att = Damage_attribute(2536, 117, 66.4, 171.3, 0, 46.6+86.1)"
   ]
  },
  {
   "cell_type": "code",
   "execution_count": 37,
   "id": "44b6896a-9223-4c1c-bb32-c22c03543652",
   "metadata": {},
   "outputs": [
    {
     "name": "stdout",
     "output_type": "stream",
     "text": [
      "damage attribute: \n",
      "  atk:               2536\n",
      "  elemental_mastery: 117\n",
      "  crit_rate:         66.4\n",
      "  crit_damage:       171.3\n",
      "  cd_reduction:      0\n",
      "  dmg_bonus:         132.7\n"
     ]
    }
   ],
   "source": [
    "xiao_dmg_att.show()"
   ]
  },
  {
   "cell_type": "code",
   "execution_count": 38,
   "id": "a43f1bbd-80f4-4b0e-a637-bf1c0dd8cce7",
   "metadata": {},
   "outputs": [],
   "source": [
    "xiao = Character('Xiao', 90, 'Anemo', xiao_dmg_att)"
   ]
  },
  {
   "cell_type": "code",
   "execution_count": 40,
   "id": "2b95d253-5de6-4365-aaf1-00013b266e88",
   "metadata": {},
   "outputs": [
    {
     "name": "stdout",
     "output_type": "stream",
     "text": [
      "No monster type specified, using default monster level and resistance(93, 0.1)\n",
      "===== expected dmg =====\n",
      "normal: 9195.352785587467\n",
      "crit:   24946.9921072988\n",
      "===== ============ =====\n"
     ]
    }
   ],
   "source": [
    "xiao_dmg = xiao.expect_dmg(3.49)"
   ]
  }
 ],
 "metadata": {
  "kernelspec": {
   "display_name": "Python 3",
   "language": "python",
   "name": "python3"
  },
  "language_info": {
   "codemirror_mode": {
    "name": "ipython",
    "version": 3
   },
   "file_extension": ".py",
   "mimetype": "text/x-python",
   "name": "python",
   "nbconvert_exporter": "python",
   "pygments_lexer": "ipython3",
   "version": "3.8.8"
  }
 },
 "nbformat": 4,
 "nbformat_minor": 5
}
