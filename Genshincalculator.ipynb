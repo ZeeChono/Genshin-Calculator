{
 "cells": [
  {
   "cell_type": "markdown",
   "id": "6e796983-3424-4d95-a165-2bb8fa478d83",
   "metadata": {},
   "source": [
    "# Genshin Calculator:"
   ]
  },
  {
   "cell_type": "code",
   "execution_count": 1,
   "id": "dfdba0a1-3f52-407f-ad3d-aa1335a97a5b",
   "metadata": {},
   "outputs": [],
   "source": [
    "class Character:\n",
    "     def __init__(self, name, level, vision_element, damage_attribute = None, survival_attribute = None):\n",
    "        self.name = name\n",
    "        self.level = level       \n",
    "        self.vision_element = vision_element\n",
    "        self.damage_attribute = damage_attribute                    \n",
    "        self.survival_attribute = survival_attribute "
   ]
  },
  {
   "cell_type": "code",
   "execution_count": 2,
   "id": "295a884e-3a3b-42ce-9709-9ec7cd1f5c41",
   "metadata": {},
   "outputs": [],
   "source": [
    "class Damage_attribute:\n",
    "    def __init__(self, atk, elemental_mastery, crit_rate, crit_damage, cd_reduction, dmg_bonus):\n",
    "        self.atk = atk\n",
    "        self.elemental_mastery = elemental_mastery\n",
    "        self.crit_rate = crit_rate                        #to get the tolerance for the norm of gradients \n",
    "        self.crit_damage = crit_damage                    #maximum number of iteration of gradient descent\n",
    "        self.cd_reduction = cd_reduction\n",
    "        self.dmg_bonus = dmg_bonus\n",
    "    \n",
    "    \n",
    "    def show(self):                              # print method\n",
    "        print(f'damage attribute: ')\n",
    "        print(f'  atk:               {self.atk}')\n",
    "        print(f'  elemental_mastery: {self.elemental_mastery}')\n",
    "        print(f'  crit_rate:         {self.crit_rate}')\n",
    "        print(f'  crit_damage:       {self.crit_damage}')\n",
    "        print(f'  cd_reduction:      {self.cd_reduction}')\n",
    "        print(f'  dmg_bonus:         {self.dmg_bonus}')"
   ]
  },
  {
   "cell_type": "markdown",
   "id": "b477eaca-b0bf-4a2a-964a-afd2a9461e14",
   "metadata": {},
   "source": [
    "# Test:"
   ]
  },
  {
   "cell_type": "code",
   "execution_count": 3,
   "id": "39a64066-e6cf-4179-a283-545dbce3b5c4",
   "metadata": {},
   "outputs": [],
   "source": [
    "dmg_att = Damage_attribute(1930, 20, 45, 180, 0, 90)"
   ]
  },
  {
   "cell_type": "code",
   "execution_count": 4,
   "id": "8bc890de-d1ca-4f70-9354-2228196ec4ac",
   "metadata": {},
   "outputs": [
    {
     "name": "stdout",
     "output_type": "stream",
     "text": [
      "damage attribute: \n",
      "  atk:               1930\n",
      "  elemental_mastery: 20\n",
      "  crit_rate:         45\n",
      "  crit_damage:       180\n",
      "  cd_reduction:      0\n",
      "  dmg_bonus:         90\n"
     ]
    }
   ],
   "source": [
    "dmg_att.show()"
   ]
  },
  {
   "cell_type": "code",
   "execution_count": 5,
   "id": "b2869938-6c0b-499b-93d7-33fbdaeecbfc",
   "metadata": {},
   "outputs": [],
   "source": [
    "childe = Character('Childe', 90, 'Hydro', dmg_att)"
   ]
  },
  {
   "cell_type": "code",
   "execution_count": 6,
   "id": "081fc2f9-2054-4ee4-939f-45b558d18f01",
   "metadata": {},
   "outputs": [
    {
     "name": "stdout",
     "output_type": "stream",
     "text": [
      "damage attribute: \n",
      "  atk:               1930\n",
      "  elemental_mastery: 20\n",
      "  crit_rate:         45\n",
      "  crit_damage:       180\n",
      "  cd_reduction:      0\n",
      "  dmg_bonus:         90\n"
     ]
    }
   ],
   "source": [
    "childe.damage_attribute.show()"
   ]
  }
 ],
 "metadata": {
  "kernelspec": {
   "display_name": "Python 3",
   "language": "python",
   "name": "python3"
  },
  "language_info": {
   "codemirror_mode": {
    "name": "ipython",
    "version": 3
   },
   "file_extension": ".py",
   "mimetype": "text/x-python",
   "name": "python",
   "nbconvert_exporter": "python",
   "pygments_lexer": "ipython3",
   "version": "3.8.8"
  }
 },
 "nbformat": 4,
 "nbformat_minor": 5
}
